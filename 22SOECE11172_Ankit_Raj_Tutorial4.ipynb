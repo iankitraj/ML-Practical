{
  "cells": [
    {
      "cell_type": "markdown",
      "metadata": {
        "id": "JBm9klVHSzst"
      },
      "source": [
        "**Tutorial 4: Implement Simple Linear Regression**\n",
        "\n",
        "\n",
        ">Use the computers.csv dataset and perform the following activities:\n",
        "\n",
        "Dataset contains the details of time taken to repair a computer, given the number of units to be repaired.\n",
        "\n",
        "Dataset: Download from drive link\n",
        "\n",
        "1.Build Regression model using Scikit-Learn Library(Model 3).\n",
        "\n",
        "  >a.Set the 'Units' column as the input data or predictor column\n",
        "\n",
        "  >b.Set the 'Minutes' column as the output data\n",
        "\n",
        "\n",
        "  >c.Importing the required class -  LinearRegression\n",
        "\n",
        "  >d.Creating a linear regression model\n",
        "  \n",
        "  >e.Fitting the model to the data\n",
        "\n",
        "  >f.Fetching intercept and coefficient\n",
        "\n",
        "2.Creating Linear Regression model with calculated coefficient and intercept.\n",
        "\n",
        "3.Add the above model to the dataframe for Visualization.\n",
        "\n",
        "4.Visualize Models using pyplot.\n",
        "\n",
        "5.Compute the Coefficient of Determination to find accuracy."
      ]
    },
    {
      "cell_type": "code",
      "execution_count": 14,
      "metadata": {
        "id": "VpiwGuPDuOGS"
      },
      "outputs": [],
      "source": [
        "import numpy as np\n",
        "import pandas as pd\n",
        "import matplotlib.pyplot as plt\n",
        "import seaborn as sns"
      ]
    },
    {
      "cell_type": "code",
      "execution_count": 15,
      "metadata": {
        "id": "cjG_jKhruSVS"
      },
      "outputs": [
        {
          "name": "stderr",
          "output_type": "stream",
          "text": [
            "<>:1: SyntaxWarning: invalid escape sequence '\\M'\n",
            "<>:1: SyntaxWarning: invalid escape sequence '\\M'\n",
            "C:\\Users\\ASUS\\AppData\\Local\\Temp\\ipykernel_12492\\2287201271.py:1: SyntaxWarning: invalid escape sequence '\\M'\n",
            "  computers = pd.read_csv(\"D:\\ML Practical\\computers (1).csv\")\n"
          ]
        }
      ],
      "source": [
        "computers = pd.read_csv(\"D:\\ML Practical\\computers (1).csv\")"
      ]
    },
    {
      "cell_type": "code",
      "execution_count": 16,
      "metadata": {
        "colab": {
          "base_uri": "https://localhost:8080/",
          "height": 488
        },
        "id": "8nec9LXhue3i",
        "outputId": "7378f99e-43b4-4821-808d-87b1f1135e6b"
      },
      "outputs": [
        {
          "data": {
            "text/html": [
              "<div>\n",
              "<style scoped>\n",
              "    .dataframe tbody tr th:only-of-type {\n",
              "        vertical-align: middle;\n",
              "    }\n",
              "\n",
              "    .dataframe tbody tr th {\n",
              "        vertical-align: top;\n",
              "    }\n",
              "\n",
              "    .dataframe thead th {\n",
              "        text-align: right;\n",
              "    }\n",
              "</style>\n",
              "<table border=\"1\" class=\"dataframe\">\n",
              "  <thead>\n",
              "    <tr style=\"text-align: right;\">\n",
              "      <th></th>\n",
              "      <th>Units</th>\n",
              "      <th>Minutes</th>\n",
              "    </tr>\n",
              "  </thead>\n",
              "  <tbody>\n",
              "    <tr>\n",
              "      <th>0</th>\n",
              "      <td>1</td>\n",
              "      <td>23</td>\n",
              "    </tr>\n",
              "    <tr>\n",
              "      <th>1</th>\n",
              "      <td>2</td>\n",
              "      <td>29</td>\n",
              "    </tr>\n",
              "    <tr>\n",
              "      <th>2</th>\n",
              "      <td>3</td>\n",
              "      <td>49</td>\n",
              "    </tr>\n",
              "    <tr>\n",
              "      <th>3</th>\n",
              "      <td>4</td>\n",
              "      <td>64</td>\n",
              "    </tr>\n",
              "    <tr>\n",
              "      <th>4</th>\n",
              "      <td>4</td>\n",
              "      <td>74</td>\n",
              "    </tr>\n",
              "    <tr>\n",
              "      <th>5</th>\n",
              "      <td>5</td>\n",
              "      <td>87</td>\n",
              "    </tr>\n",
              "    <tr>\n",
              "      <th>6</th>\n",
              "      <td>6</td>\n",
              "      <td>96</td>\n",
              "    </tr>\n",
              "    <tr>\n",
              "      <th>7</th>\n",
              "      <td>6</td>\n",
              "      <td>97</td>\n",
              "    </tr>\n",
              "    <tr>\n",
              "      <th>8</th>\n",
              "      <td>7</td>\n",
              "      <td>109</td>\n",
              "    </tr>\n",
              "    <tr>\n",
              "      <th>9</th>\n",
              "      <td>8</td>\n",
              "      <td>119</td>\n",
              "    </tr>\n",
              "    <tr>\n",
              "      <th>10</th>\n",
              "      <td>9</td>\n",
              "      <td>149</td>\n",
              "    </tr>\n",
              "    <tr>\n",
              "      <th>11</th>\n",
              "      <td>9</td>\n",
              "      <td>145</td>\n",
              "    </tr>\n",
              "    <tr>\n",
              "      <th>12</th>\n",
              "      <td>10</td>\n",
              "      <td>154</td>\n",
              "    </tr>\n",
              "    <tr>\n",
              "      <th>13</th>\n",
              "      <td>10</td>\n",
              "      <td>166</td>\n",
              "    </tr>\n",
              "  </tbody>\n",
              "</table>\n",
              "</div>"
            ],
            "text/plain": [
              "    Units  Minutes\n",
              "0       1       23\n",
              "1       2       29\n",
              "2       3       49\n",
              "3       4       64\n",
              "4       4       74\n",
              "5       5       87\n",
              "6       6       96\n",
              "7       6       97\n",
              "8       7      109\n",
              "9       8      119\n",
              "10      9      149\n",
              "11      9      145\n",
              "12     10      154\n",
              "13     10      166"
            ]
          },
          "execution_count": 16,
          "metadata": {},
          "output_type": "execute_result"
        }
      ],
      "source": [
        "computers"
      ]
    },
    {
      "cell_type": "code",
      "execution_count": 17,
      "metadata": {
        "colab": {
          "base_uri": "https://localhost:8080/"
        },
        "id": "Gx0BMzEYuk5g",
        "outputId": "ea1a0596-9288-4ea5-e6d6-39f34b6b1c2f"
      },
      "outputs": [
        {
          "name": "stdout",
          "output_type": "stream",
          "text": [
            "97.21428571428571\n"
          ]
        }
      ],
      "source": [
        "mean_value = computers['Minutes'].mean()\n",
        "print(mean_value)"
      ]
    },
    {
      "cell_type": "code",
      "execution_count": 18,
      "metadata": {
        "colab": {
          "base_uri": "https://localhost:8080/",
          "height": 466
        },
        "id": "jpVYrdo6unKa",
        "outputId": "d3efd3d2-ee04-4abc-8be8-1c4bbd3aad43"
      },
      "outputs": [
        {
          "data": {
            "text/plain": [
              "Text(0, 0.5, 'Minutes')"
            ]
          },
          "execution_count": 18,
          "metadata": {},
          "output_type": "execute_result"
        },
        {
          "data": {
            "image/png": "[encoded data removed]",
            "text/plain": [
              "<Figure size 640x480 with 1 Axes>"
            ]
          },
          "metadata": {},
          "output_type": "display_data"
        }
      ],
      "source": [
        "plt.scatter(computers['Units'],computers['Minutes'],color='blue', marker='o')\n",
        "plt.axhline(y=mean_value,c='r')\n",
        "plt.xlabel(\"Units\")\n",
        "plt.ylabel(\"Minutes\")"
      ]
    },
    {
      "cell_type": "code",
      "execution_count": 19,
      "metadata": {
        "id": "yH0PDGnfupKA"
      },
      "outputs": [],
      "source": [
        "# Creating three Linear Regression models\n",
        "minutes_model0 = computers['Minutes'].mean() #Model0 : Estimated time  = Mean ('Minutes')\n",
        "minutes_model1 = 10 + 12*computers['Units'] #Model1 : Estimated time  =  10 + 12*computers(#Units) minutes\n",
        "minutes_model2 = 6 + 18*computers['Units']  #Model2 : Estimated time  =  6 + 18*computers(#Units) minutes"
      ]
    },
    {
      "cell_type": "code",
      "execution_count": 20,
      "metadata": {
        "colab": {
          "base_uri": "https://localhost:8080/",
          "height": 488
        },
        "id": "FY4Wa0A0utM3",
        "outputId": "3726fc35-0675-4b6c-fe20-a2ac040d86b4"
      },
      "outputs": [
        {
          "data": {
            "text/html": [
              "<div>\n",
              "<style scoped>\n",
              "    .dataframe tbody tr th:only-of-type {\n",
              "        vertical-align: middle;\n",
              "    }\n",
              "\n",
              "    .dataframe tbody tr th {\n",
              "        vertical-align: top;\n",
              "    }\n",
              "\n",
              "    .dataframe thead th {\n",
              "        text-align: right;\n",
              "    }\n",
              "</style>\n",
              "<table border=\"1\" class=\"dataframe\">\n",
              "  <thead>\n",
              "    <tr style=\"text-align: right;\">\n",
              "      <th></th>\n",
              "      <th>Units</th>\n",
              "      <th>Minutes</th>\n",
              "      <th>min_model0</th>\n",
              "      <th>min_model1</th>\n",
              "      <th>min_model2</th>\n",
              "    </tr>\n",
              "  </thead>\n",
              "  <tbody>\n",
              "    <tr>\n",
              "      <th>0</th>\n",
              "      <td>1</td>\n",
              "      <td>23</td>\n",
              "      <td>97.214286</td>\n",
              "      <td>22</td>\n",
              "      <td>24</td>\n",
              "    </tr>\n",
              "    <tr>\n",
              "      <th>1</th>\n",
              "      <td>2</td>\n",
              "      <td>29</td>\n",
              "      <td>97.214286</td>\n",
              "      <td>34</td>\n",
              "      <td>42</td>\n",
              "    </tr>\n",
              "    <tr>\n",
              "      <th>2</th>\n",
              "      <td>3</td>\n",
              "      <td>49</td>\n",
              "      <td>97.214286</td>\n",
              "      <td>46</td>\n",
              "      <td>60</td>\n",
              "    </tr>\n",
              "    <tr>\n",
              "      <th>3</th>\n",
              "      <td>4</td>\n",
              "      <td>64</td>\n",
              "      <td>97.214286</td>\n",
              "      <td>58</td>\n",
              "      <td>78</td>\n",
              "    </tr>\n",
              "    <tr>\n",
              "      <th>4</th>\n",
              "      <td>4</td>\n",
              "      <td>74</td>\n",
              "      <td>97.214286</td>\n",
              "      <td>58</td>\n",
              "      <td>78</td>\n",
              "    </tr>\n",
              "    <tr>\n",
              "      <th>5</th>\n",
              "      <td>5</td>\n",
              "      <td>87</td>\n",
              "      <td>97.214286</td>\n",
              "      <td>70</td>\n",
              "      <td>96</td>\n",
              "    </tr>\n",
              "    <tr>\n",
              "      <th>6</th>\n",
              "      <td>6</td>\n",
              "      <td>96</td>\n",
              "      <td>97.214286</td>\n",
              "      <td>82</td>\n",
              "      <td>114</td>\n",
              "    </tr>\n",
              "    <tr>\n",
              "      <th>7</th>\n",
              "      <td>6</td>\n",
              "      <td>97</td>\n",
              "      <td>97.214286</td>\n",
              "      <td>82</td>\n",
              "      <td>114</td>\n",
              "    </tr>\n",
              "    <tr>\n",
              "      <th>8</th>\n",
              "      <td>7</td>\n",
              "      <td>109</td>\n",
              "      <td>97.214286</td>\n",
              "      <td>94</td>\n",
              "      <td>132</td>\n",
              "    </tr>\n",
              "    <tr>\n",
              "      <th>9</th>\n",
              "      <td>8</td>\n",
              "      <td>119</td>\n",
              "      <td>97.214286</td>\n",
              "      <td>106</td>\n",
              "      <td>150</td>\n",
              "    </tr>\n",
              "    <tr>\n",
              "      <th>10</th>\n",
              "      <td>9</td>\n",
              "      <td>149</td>\n",
              "      <td>97.214286</td>\n",
              "      <td>118</td>\n",
              "      <td>168</td>\n",
              "    </tr>\n",
              "    <tr>\n",
              "      <th>11</th>\n",
              "      <td>9</td>\n",
              "      <td>145</td>\n",
              "      <td>97.214286</td>\n",
              "      <td>118</td>\n",
              "      <td>168</td>\n",
              "    </tr>\n",
              "    <tr>\n",
              "      <th>12</th>\n",
              "      <td>10</td>\n",
              "      <td>154</td>\n",
              "      <td>97.214286</td>\n",
              "      <td>130</td>\n",
              "      <td>186</td>\n",
              "    </tr>\n",
              "    <tr>\n",
              "      <th>13</th>\n",
              "      <td>10</td>\n",
              "      <td>166</td>\n",
              "      <td>97.214286</td>\n",
              "      <td>130</td>\n",
              "      <td>186</td>\n",
              "    </tr>\n",
              "  </tbody>\n",
              "</table>\n",
              "</div>"
            ],
            "text/plain": [
              "    Units  Minutes  min_model0  min_model1  min_model2\n",
              "0       1       23   97.214286          22          24\n",
              "1       2       29   97.214286          34          42\n",
              "2       3       49   97.214286          46          60\n",
              "3       4       64   97.214286          58          78\n",
              "4       4       74   97.214286          58          78\n",
              "5       5       87   97.214286          70          96\n",
              "6       6       96   97.214286          82         114\n",
              "7       6       97   97.214286          82         114\n",
              "8       7      109   97.214286          94         132\n",
              "9       8      119   97.214286         106         150\n",
              "10      9      149   97.214286         118         168\n",
              "11      9      145   97.214286         118         168\n",
              "12     10      154   97.214286         130         186\n",
              "13     10      166   97.214286         130         186"
            ]
          },
          "execution_count": 20,
          "metadata": {},
          "output_type": "execute_result"
        }
      ],
      "source": [
        "computers['min_model0'] = minutes_model0\n",
        "computers['min_model1'] = minutes_model1\n",
        "computers['min_model2'] = minutes_model2\n",
        "computers"
      ]
    },
    {
      "cell_type": "code",
      "execution_count": 21,
      "metadata": {
        "colab": {
          "base_uri": "https://localhost:8080/",
          "height": 489
        },
        "id": "X0PbTvmquv4w",
        "outputId": "2e19a127-a467-4b2f-acdb-3e762877c7b0"
      },
      "outputs": [
        {
          "data": {
            "text/plain": [
              "<matplotlib.legend.Legend at 0x27d9dbc0b90>"
            ]
          },
          "execution_count": 21,
          "metadata": {},
          "output_type": "execute_result"
        },
        {
          "data": {
            "image/png": "[encoded data removed]",
            "text/plain": [
              "<Figure size 640x480 with 1 Axes>"
            ]
          },
          "metadata": {},
          "output_type": "display_data"
        }
      ],
      "source": [
        "fig,ax = plt.subplots()\n",
        "ax.scatter(x= 'Units' , y=\"Minutes\" , data = computers , label = 'Actual Repair Time')\n",
        "ax.plot(computers['Units'], computers['min_model0'], color = 'red' , label = 'Model0')\n",
        "ax.plot(computers['Units'], computers['min_model1'],  color = 'green' , label = 'Model1')\n",
        "ax.plot(computers['Units'], computers['min_model2'],  color = 'black' , label = 'Model2')\n",
        "ax.set_xlabel('Units')\n",
        "ax.set_ylabel('Minutes')\n",
        "ax.set_title('Speculated Models')\n",
        "ax.legend()\n"
      ]
    },
    {
      "cell_type": "code",
      "execution_count": 22,
      "metadata": {
        "colab": {
          "base_uri": "https://localhost:8080/"
        },
        "id": "F9VAv6uKuyF4",
        "outputId": "da5dbd4a-563b-4754-ea48-039b8cdb4300"
      },
      "outputs": [
        {
          "name": "stdout",
          "output_type": "stream",
          "text": [
            "Intercept 4.161654135338296\n",
            "Coefficient [15.50877193]\n"
          ]
        }
      ],
      "source": [
        "x = computers[['Units']]\n",
        "y = computers['Minutes']\n",
        "from sklearn.linear_model import LinearRegression\n",
        "model = LinearRegression()\n",
        "model.fit(x,y)\n",
        "print(\"Intercept\" ,model.intercept_)\n",
        "print(\"Coefficient\", model.coef_)"
      ]
    },
    {
      "cell_type": "code",
      "execution_count": 23,
      "metadata": {
        "colab": {
          "base_uri": "https://localhost:8080/",
          "height": 488
        },
        "id": "1oOUEoA6u0Sq",
        "outputId": "81af7981-a199-4fa5-b97a-1a8001be806c"
      },
      "outputs": [
        {
          "data": {
            "text/html": [
              "<div>\n",
              "<style scoped>\n",
              "    .dataframe tbody tr th:only-of-type {\n",
              "        vertical-align: middle;\n",
              "    }\n",
              "\n",
              "    .dataframe tbody tr th {\n",
              "        vertical-align: top;\n",
              "    }\n",
              "\n",
              "    .dataframe thead th {\n",
              "        text-align: right;\n",
              "    }\n",
              "</style>\n",
              "<table border=\"1\" class=\"dataframe\">\n",
              "  <thead>\n",
              "    <tr style=\"text-align: right;\">\n",
              "      <th></th>\n",
              "      <th>Units</th>\n",
              "      <th>Minutes</th>\n",
              "      <th>min_model0</th>\n",
              "      <th>min_model1</th>\n",
              "      <th>min_model2</th>\n",
              "      <th>min_model3</th>\n",
              "    </tr>\n",
              "  </thead>\n",
              "  <tbody>\n",
              "    <tr>\n",
              "      <th>0</th>\n",
              "      <td>1</td>\n",
              "      <td>23</td>\n",
              "      <td>97.214286</td>\n",
              "      <td>22</td>\n",
              "      <td>24</td>\n",
              "      <td>19.670426</td>\n",
              "    </tr>\n",
              "    <tr>\n",
              "      <th>1</th>\n",
              "      <td>2</td>\n",
              "      <td>29</td>\n",
              "      <td>97.214286</td>\n",
              "      <td>34</td>\n",
              "      <td>42</td>\n",
              "      <td>35.179198</td>\n",
              "    </tr>\n",
              "    <tr>\n",
              "      <th>2</th>\n",
              "      <td>3</td>\n",
              "      <td>49</td>\n",
              "      <td>97.214286</td>\n",
              "      <td>46</td>\n",
              "      <td>60</td>\n",
              "      <td>50.687970</td>\n",
              "    </tr>\n",
              "    <tr>\n",
              "      <th>3</th>\n",
              "      <td>4</td>\n",
              "      <td>64</td>\n",
              "      <td>97.214286</td>\n",
              "      <td>58</td>\n",
              "      <td>78</td>\n",
              "      <td>66.196742</td>\n",
              "    </tr>\n",
              "    <tr>\n",
              "      <th>4</th>\n",
              "      <td>4</td>\n",
              "      <td>74</td>\n",
              "      <td>97.214286</td>\n",
              "      <td>58</td>\n",
              "      <td>78</td>\n",
              "      <td>66.196742</td>\n",
              "    </tr>\n",
              "    <tr>\n",
              "      <th>5</th>\n",
              "      <td>5</td>\n",
              "      <td>87</td>\n",
              "      <td>97.214286</td>\n",
              "      <td>70</td>\n",
              "      <td>96</td>\n",
              "      <td>81.705514</td>\n",
              "    </tr>\n",
              "    <tr>\n",
              "      <th>6</th>\n",
              "      <td>6</td>\n",
              "      <td>96</td>\n",
              "      <td>97.214286</td>\n",
              "      <td>82</td>\n",
              "      <td>114</td>\n",
              "      <td>97.214286</td>\n",
              "    </tr>\n",
              "    <tr>\n",
              "      <th>7</th>\n",
              "      <td>6</td>\n",
              "      <td>97</td>\n",
              "      <td>97.214286</td>\n",
              "      <td>82</td>\n",
              "      <td>114</td>\n",
              "      <td>97.214286</td>\n",
              "    </tr>\n",
              "    <tr>\n",
              "      <th>8</th>\n",
              "      <td>7</td>\n",
              "      <td>109</td>\n",
              "      <td>97.214286</td>\n",
              "      <td>94</td>\n",
              "      <td>132</td>\n",
              "      <td>112.723058</td>\n",
              "    </tr>\n",
              "    <tr>\n",
              "      <th>9</th>\n",
              "      <td>8</td>\n",
              "      <td>119</td>\n",
              "      <td>97.214286</td>\n",
              "      <td>106</td>\n",
              "      <td>150</td>\n",
              "      <td>128.231830</td>\n",
              "    </tr>\n",
              "    <tr>\n",
              "      <th>10</th>\n",
              "      <td>9</td>\n",
              "      <td>149</td>\n",
              "      <td>97.214286</td>\n",
              "      <td>118</td>\n",
              "      <td>168</td>\n",
              "      <td>143.740602</td>\n",
              "    </tr>\n",
              "    <tr>\n",
              "      <th>11</th>\n",
              "      <td>9</td>\n",
              "      <td>145</td>\n",
              "      <td>97.214286</td>\n",
              "      <td>118</td>\n",
              "      <td>168</td>\n",
              "      <td>143.740602</td>\n",
              "    </tr>\n",
              "    <tr>\n",
              "      <th>12</th>\n",
              "      <td>10</td>\n",
              "      <td>154</td>\n",
              "      <td>97.214286</td>\n",
              "      <td>130</td>\n",
              "      <td>186</td>\n",
              "      <td>159.249373</td>\n",
              "    </tr>\n",
              "    <tr>\n",
              "      <th>13</th>\n",
              "      <td>10</td>\n",
              "      <td>166</td>\n",
              "      <td>97.214286</td>\n",
              "      <td>130</td>\n",
              "      <td>186</td>\n",
              "      <td>159.249373</td>\n",
              "    </tr>\n",
              "  </tbody>\n",
              "</table>\n",
              "</div>"
            ],
            "text/plain": [
              "    Units  Minutes  min_model0  min_model1  min_model2  min_model3\n",
              "0       1       23   97.214286          22          24   19.670426\n",
              "1       2       29   97.214286          34          42   35.179198\n",
              "2       3       49   97.214286          46          60   50.687970\n",
              "3       4       64   97.214286          58          78   66.196742\n",
              "4       4       74   97.214286          58          78   66.196742\n",
              "5       5       87   97.214286          70          96   81.705514\n",
              "6       6       96   97.214286          82         114   97.214286\n",
              "7       6       97   97.214286          82         114   97.214286\n",
              "8       7      109   97.214286          94         132  112.723058\n",
              "9       8      119   97.214286         106         150  128.231830\n",
              "10      9      149   97.214286         118         168  143.740602\n",
              "11      9      145   97.214286         118         168  143.740602\n",
              "12     10      154   97.214286         130         186  159.249373\n",
              "13     10      166   97.214286         130         186  159.249373"
            ]
          },
          "execution_count": 23,
          "metadata": {},
          "output_type": "execute_result"
        }
      ],
      "source": [
        "minutes_model3 = 4.161654135338296 + 15.50877193*computers['Units'] #Model3 : Estimated time  =  4.16 + 15.50877193*computers(#Units) minutes\n",
        "computers['min_model3'] = minutes_model3\n",
        "computers"
      ]
    },
    {
      "cell_type": "code",
      "execution_count": 24,
      "metadata": {
        "colab": {
          "base_uri": "https://localhost:8080/",
          "height": 489
        },
        "id": "aQZIVMxiu2HH",
        "outputId": "ca3a9ad0-2833-498d-e553-a6cbe45905b4"
      },
      "outputs": [
        {
          "data": {
            "text/plain": [
              "<matplotlib.legend.Legend at 0x27d9dc4d1d0>"
            ]
          },
          "execution_count": 24,
          "metadata": {},
          "output_type": "execute_result"
        },
        {
          "data": {
            "image/png": "[encoded data removed]",
            "text/plain": [
              "<Figure size 640x480 with 1 Axes>"
            ]
          },
          "metadata": {},
          "output_type": "display_data"
        }
      ],
      "source": [
        "fig,ax = plt.subplots()\n",
        "ax.scatter(x= 'Units' , y=\"Minutes\" , data = computers , label = 'Actual Repair Time')\n",
        "ax.plot(computers['Units'], computers['min_model0'], color = 'red' , label = 'Model0')\n",
        "ax.plot(computers['Units'], computers['min_model1'],  color = 'green' , label = 'Model1')\n",
        "ax.plot(computers['Units'], computers['min_model2'],  color = 'black' , label = 'Model2')\n",
        "ax.plot(computers['Units'], computers['min_model3'],  color = 'yellow' , label = 'Model3')\n",
        "ax.set_xlabel('Units')\n",
        "ax.set_ylabel('Minutes')\n",
        "ax.set_title('Speculated Models')\n",
        "ax.legend()"
      ]
    },
    {
      "cell_type": "code",
      "execution_count": 25,
      "metadata": {
        "colab": {
          "base_uri": "https://localhost:8080/"
        },
        "id": "s5bJJDbpu4L5",
        "outputId": "696b1328-ca29-4312-cab2-eeda610796f3"
      },
      "outputs": [
        {
          "data": {
            "text/plain": [
              "98.74371980620737"
            ]
          },
          "execution_count": 25,
          "metadata": {},
          "output_type": "execute_result"
        }
      ],
      "source": [
        "Rsq = model.score(computers[['Units']],y) * 100\n",
        "Rsq"
      ]
    }
  ],
  "metadata": {
    "colab": {
      "provenance": []
    },
    "kernelspec": {
      "display_name": ".venv",
      "language": "python",
      "name": "python3"
    },
    "language_info": {
      "codemirror_mode": {
        "name": "ipython",
        "version": 3
      },
      "file_extension": ".py",
      "mimetype": "text/x-python",
      "name": "python",
      "nbconvert_exporter": "python",
      "pygments_lexer": "ipython3",
      "version": "3.13.1"
    }
  },
  "nbformat": 4,
  "nbformat_minor": 0
}
